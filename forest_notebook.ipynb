{
 "cells": [
  {
   "cell_type": "code",
   "execution_count": 1,
   "id": "e50d59a9",
   "metadata": {},
   "outputs": [],
   "source": [
    "import numpy as np\n",
    "import seaborn as sns\n",
    "import matplotlib.pyplot as plt\n",
    "\n",
    "%matplotlib inline\n",
    "%load_ext autoreload\n",
    "%autoreload 2\n",
    "\n",
    "# this line ensures that all models will have the same split\n",
    "np.random.seed(1882)"
   ]
  },
  {
   "cell_type": "code",
   "execution_count": 2,
   "id": "1da2234d",
   "metadata": {},
   "outputs": [],
   "source": [
    "XY = np.loadtxt('phishing.data', delimiter=',')\n",
    "XY = XY.astype(np.int8)"
   ]
  },
  {
   "cell_type": "code",
   "execution_count": 3,
   "id": "3834fc0c",
   "metadata": {},
   "outputs": [],
   "source": [
    "from src.utilz import get_random_splits\n",
    "\n",
    "datasets = get_random_splits(XY, [0.6, 0.2, 0.2], T = 10)"
   ]
  },
  {
   "cell_type": "code",
   "execution_count": 14,
   "id": "ea905a2d",
   "metadata": {},
   "outputs": [],
   "source": [
    "from src.tree import DecisionTree\n",
    "\n",
    "tree = DecisionTree(no_features=30, max_depth=1, min_samples_split=2)\n",
    "\n",
    "tree.fit(datasets[0][0][:, :-1], datasets[0][0][:, -1].reshape(-1, 1))"
   ]
  },
  {
   "cell_type": "code",
   "execution_count": 17,
   "id": "ff215e2d",
   "metadata": {},
   "outputs": [
    {
     "name": "stdout",
     "output_type": "stream",
     "text": [
      "Training error: 0.1080\n",
      "Validation error: 0.1181\n",
      "The most important feature is 25 with a threshold of 0.0\n"
     ]
    }
   ],
   "source": [
    "tree_train_error = tree.zero_one_error(datasets[0][0][:, :-1], datasets[0][0][:, -1].reshape(-1, 1))\n",
    "tree_val_error = tree.zero_one_error(datasets[0][1][:, :-1], datasets[0][1][:, -1].reshape(-1, 1))\n",
    "print(f\"Training error: {tree_train_error:.4f}\")\n",
    "print(f\"Validation error: {tree_val_error:.4f}\")\n",
    "print(f\"The most important feature is {tree.root.feature} with a threshold of {tree.root.threshold}\")"
   ]
  },
  {
   "cell_type": "markdown",
   "id": "96041872",
   "metadata": {},
   "source": [
    "Stało się coś niesamowitego.  \n",
    "Drzewo decyzyjne o głębokości 1 daje lepsze wyniki niż 2 poprzednie modele.  \n",
    "Co więcej potwierdza się, że x25 jest najbardziej istotna.\n",
    "Szczerze nie wiem co z tym zrobić. Liczyłem, że teraz klepnę las i on poprawi wyniki drzew, ale nie ma co poprawiać, pewnie wystarczy zwiększyć głębokość i będzie naprawdę bardzo dobrze.  \n",
    "Gorsze niż to jest, że wyrzucenie cech powodowało katastrofę w SVM.  \n",
    "Być może taka specyfika danych."
   ]
  }
 ],
 "metadata": {
  "kernelspec": {
   "display_name": ".venv",
   "language": "python",
   "name": "python3"
  },
  "language_info": {
   "codemirror_mode": {
    "name": "ipython",
    "version": 3
   },
   "file_extension": ".py",
   "mimetype": "text/x-python",
   "name": "python",
   "nbconvert_exporter": "python",
   "pygments_lexer": "ipython3",
   "version": "3.12.8"
  }
 },
 "nbformat": 4,
 "nbformat_minor": 5
}
